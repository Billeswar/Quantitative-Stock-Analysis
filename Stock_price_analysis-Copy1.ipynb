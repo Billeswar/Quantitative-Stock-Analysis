{
 "cells": [
  {
   "cell_type": "code",
   "execution_count": 1,
   "metadata": {},
   "outputs": [],
   "source": [
    "import numpy as np\n",
    "import pandas as pd\n",
    "import matplotlib.pyplot as plt\n",
    "import seaborn as sns\n",
    "from scipy import stats\n",
    "from scipy.special import inv_boxcox"
   ]
  },
  {
   "cell_type": "code",
   "execution_count": 2,
   "metadata": {},
   "outputs": [],
   "source": [
    "import pandas_datareader as pdr\n",
    "from datetime import datetime"
   ]
  },
  {
   "cell_type": "code",
   "execution_count": 3,
   "metadata": {},
   "outputs": [],
   "source": [
    "import yfinance as yf"
   ]
  },
  {
   "cell_type": "code",
   "execution_count": 5,
   "metadata": {},
   "outputs": [
    {
     "data": {
      "text/plain": [
       "(datetime.datetime(2023, 8, 1, 0, 0),\n",
       " datetime.datetime(2024, 8, 29, 21, 13, 20, 273949))"
      ]
     },
     "execution_count": 5,
     "metadata": {},
     "output_type": "execute_result"
    }
   ],
   "source": [
    "start = datetime(2023,8,1)\n",
    "end = datetime.now()\n",
    "start,end"
   ]
  },
  {
   "cell_type": "code",
   "execution_count": 11,
   "metadata": {},
   "outputs": [
    {
     "name": "stdout",
     "output_type": "stream",
     "text": [
      "[*********************100%***********************]  1 of 1 completed\n"
     ]
    }
   ],
   "source": [
    "tick = 'AMIORG.NS'\n",
    "df = yf.download(tick, start, end)"
   ]
  },
  {
   "cell_type": "code",
   "execution_count": 8,
   "metadata": {},
   "outputs": [
    {
     "name": "stdout",
     "output_type": "stream",
     "text": [
      "[*********************100%***********************]  1 of 1 completed\n"
     ]
    },
    {
     "data": {
      "text/html": [
       "<div>\n",
       "<style scoped>\n",
       "    .dataframe tbody tr th:only-of-type {\n",
       "        vertical-align: middle;\n",
       "    }\n",
       "\n",
       "    .dataframe tbody tr th {\n",
       "        vertical-align: top;\n",
       "    }\n",
       "\n",
       "    .dataframe thead th {\n",
       "        text-align: right;\n",
       "    }\n",
       "</style>\n",
       "<table border=\"1\" class=\"dataframe\">\n",
       "  <thead>\n",
       "    <tr style=\"text-align: right;\">\n",
       "      <th></th>\n",
       "      <th>Open</th>\n",
       "      <th>High</th>\n",
       "      <th>Low</th>\n",
       "      <th>Close</th>\n",
       "      <th>Adj Close</th>\n",
       "      <th>Volume</th>\n",
       "    </tr>\n",
       "    <tr>\n",
       "      <th>Date</th>\n",
       "      <th></th>\n",
       "      <th></th>\n",
       "      <th></th>\n",
       "      <th></th>\n",
       "      <th></th>\n",
       "      <th></th>\n",
       "    </tr>\n",
       "  </thead>\n",
       "  <tbody>\n",
       "    <tr>\n",
       "      <th>2023-08-01</th>\n",
       "      <td>19784.000000</td>\n",
       "      <td>19795.599609</td>\n",
       "      <td>19704.599609</td>\n",
       "      <td>19733.550781</td>\n",
       "      <td>19733.550781</td>\n",
       "      <td>298000</td>\n",
       "    </tr>\n",
       "    <tr>\n",
       "      <th>2023-08-02</th>\n",
       "      <td>19655.400391</td>\n",
       "      <td>19678.250000</td>\n",
       "      <td>19423.550781</td>\n",
       "      <td>19526.550781</td>\n",
       "      <td>19526.550781</td>\n",
       "      <td>290700</td>\n",
       "    </tr>\n",
       "    <tr>\n",
       "      <th>2023-08-03</th>\n",
       "      <td>19463.750000</td>\n",
       "      <td>19537.650391</td>\n",
       "      <td>19296.449219</td>\n",
       "      <td>19381.650391</td>\n",
       "      <td>19381.650391</td>\n",
       "      <td>315700</td>\n",
       "    </tr>\n",
       "    <tr>\n",
       "      <th>2023-08-04</th>\n",
       "      <td>19462.800781</td>\n",
       "      <td>19538.849609</td>\n",
       "      <td>19436.449219</td>\n",
       "      <td>19517.000000</td>\n",
       "      <td>19517.000000</td>\n",
       "      <td>280800</td>\n",
       "    </tr>\n",
       "    <tr>\n",
       "      <th>2023-08-07</th>\n",
       "      <td>19576.849609</td>\n",
       "      <td>19620.449219</td>\n",
       "      <td>19524.800781</td>\n",
       "      <td>19597.300781</td>\n",
       "      <td>19597.300781</td>\n",
       "      <td>216600</td>\n",
       "    </tr>\n",
       "    <tr>\n",
       "      <th>2023-08-08</th>\n",
       "      <td>19627.199219</td>\n",
       "      <td>19634.400391</td>\n",
       "      <td>19533.099609</td>\n",
       "      <td>19570.849609</td>\n",
       "      <td>19570.849609</td>\n",
       "      <td>260300</td>\n",
       "    </tr>\n",
       "    <tr>\n",
       "      <th>2023-08-09</th>\n",
       "      <td>19578.800781</td>\n",
       "      <td>19645.500000</td>\n",
       "      <td>19467.500000</td>\n",
       "      <td>19632.550781</td>\n",
       "      <td>19632.550781</td>\n",
       "      <td>266500</td>\n",
       "    </tr>\n",
       "    <tr>\n",
       "      <th>2023-08-10</th>\n",
       "      <td>19605.550781</td>\n",
       "      <td>19623.599609</td>\n",
       "      <td>19495.400391</td>\n",
       "      <td>19543.099609</td>\n",
       "      <td>19543.099609</td>\n",
       "      <td>312200</td>\n",
       "    </tr>\n",
       "    <tr>\n",
       "      <th>2023-08-11</th>\n",
       "      <td>19554.250000</td>\n",
       "      <td>19557.750000</td>\n",
       "      <td>19412.750000</td>\n",
       "      <td>19428.300781</td>\n",
       "      <td>19428.300781</td>\n",
       "      <td>235500</td>\n",
       "    </tr>\n",
       "    <tr>\n",
       "      <th>2023-08-14</th>\n",
       "      <td>19383.949219</td>\n",
       "      <td>19465.849609</td>\n",
       "      <td>19257.900391</td>\n",
       "      <td>19434.550781</td>\n",
       "      <td>19434.550781</td>\n",
       "      <td>243900</td>\n",
       "    </tr>\n",
       "  </tbody>\n",
       "</table>\n",
       "</div>"
      ],
      "text/plain": [
       "                    Open          High           Low         Close  \\\n",
       "Date                                                                 \n",
       "2023-08-01  19784.000000  19795.599609  19704.599609  19733.550781   \n",
       "2023-08-02  19655.400391  19678.250000  19423.550781  19526.550781   \n",
       "2023-08-03  19463.750000  19537.650391  19296.449219  19381.650391   \n",
       "2023-08-04  19462.800781  19538.849609  19436.449219  19517.000000   \n",
       "2023-08-07  19576.849609  19620.449219  19524.800781  19597.300781   \n",
       "2023-08-08  19627.199219  19634.400391  19533.099609  19570.849609   \n",
       "2023-08-09  19578.800781  19645.500000  19467.500000  19632.550781   \n",
       "2023-08-10  19605.550781  19623.599609  19495.400391  19543.099609   \n",
       "2023-08-11  19554.250000  19557.750000  19412.750000  19428.300781   \n",
       "2023-08-14  19383.949219  19465.849609  19257.900391  19434.550781   \n",
       "\n",
       "               Adj Close  Volume  \n",
       "Date                              \n",
       "2023-08-01  19733.550781  298000  \n",
       "2023-08-02  19526.550781  290700  \n",
       "2023-08-03  19381.650391  315700  \n",
       "2023-08-04  19517.000000  280800  \n",
       "2023-08-07  19597.300781  216600  \n",
       "2023-08-08  19570.849609  260300  \n",
       "2023-08-09  19632.550781  266500  \n",
       "2023-08-10  19543.099609  312200  \n",
       "2023-08-11  19428.300781  235500  \n",
       "2023-08-14  19434.550781  243900  "
      ]
     },
     "execution_count": 8,
     "metadata": {},
     "output_type": "execute_result"
    }
   ],
   "source": [
    "tick = '^NSEI'\n",
    "df1 = yf.download(tick, start, end)\n",
    "df1.head(10)"
   ]
  },
  {
   "cell_type": "code",
   "execution_count": 27,
   "metadata": {},
   "outputs": [],
   "source": [
    "df_return = round(np.log(df['Close']).diff()*100,2)\n",
    "df1_return = round(np.log(df1['Close']).diff()*100,2)"
   ]
  },
  {
   "cell_type": "code",
   "execution_count": 25,
   "metadata": {},
   "outputs": [],
   "source": [
    "df_return = pd.DataFrame(df_return).dropna(inplace = True)\n",
    "df1_return = pd.DataFrame(df1_return).dropna(inplace = True)"
   ]
  },
  {
   "cell_type": "code",
   "execution_count": 47,
   "metadata": {},
   "outputs": [],
   "source": [
    "x = pd.DataFrame(df_return).dropna()\n",
    "y = pd.DataFrame(df1_return).dropna()"
   ]
  },
  {
   "cell_type": "code",
   "execution_count": 48,
   "metadata": {},
   "outputs": [],
   "source": [
    "x.rename(columns = {\"Close\":\"AMIORG\"}, inplace = True)\n",
    "y.rename(columns = {\"Close\":\"NIFTY50\"}, inplace = True)"
   ]
  },
  {
   "cell_type": "code",
   "execution_count": 49,
   "metadata": {},
   "outputs": [
    {
     "data": {
      "text/html": [
       "<div>\n",
       "<style scoped>\n",
       "    .dataframe tbody tr th:only-of-type {\n",
       "        vertical-align: middle;\n",
       "    }\n",
       "\n",
       "    .dataframe tbody tr th {\n",
       "        vertical-align: top;\n",
       "    }\n",
       "\n",
       "    .dataframe thead th {\n",
       "        text-align: right;\n",
       "    }\n",
       "</style>\n",
       "<table border=\"1\" class=\"dataframe\">\n",
       "  <thead>\n",
       "    <tr style=\"text-align: right;\">\n",
       "      <th></th>\n",
       "      <th>NIFTY50</th>\n",
       "      <th>AMIORG</th>\n",
       "    </tr>\n",
       "    <tr>\n",
       "      <th>Date</th>\n",
       "      <th></th>\n",
       "      <th></th>\n",
       "    </tr>\n",
       "  </thead>\n",
       "  <tbody>\n",
       "    <tr>\n",
       "      <th>2023-08-02</th>\n",
       "      <td>-1.05</td>\n",
       "      <td>0.58</td>\n",
       "    </tr>\n",
       "    <tr>\n",
       "      <th>2023-08-03</th>\n",
       "      <td>-0.74</td>\n",
       "      <td>2.90</td>\n",
       "    </tr>\n",
       "    <tr>\n",
       "      <th>2023-08-04</th>\n",
       "      <td>0.70</td>\n",
       "      <td>2.86</td>\n",
       "    </tr>\n",
       "    <tr>\n",
       "      <th>2023-08-07</th>\n",
       "      <td>0.41</td>\n",
       "      <td>0.37</td>\n",
       "    </tr>\n",
       "    <tr>\n",
       "      <th>2023-08-08</th>\n",
       "      <td>-0.14</td>\n",
       "      <td>-0.92</td>\n",
       "    </tr>\n",
       "  </tbody>\n",
       "</table>\n",
       "</div>"
      ],
      "text/plain": [
       "            NIFTY50  AMIORG\n",
       "Date                       \n",
       "2023-08-02    -1.05    0.58\n",
       "2023-08-03    -0.74    2.90\n",
       "2023-08-04     0.70    2.86\n",
       "2023-08-07     0.41    0.37\n",
       "2023-08-08    -0.14   -0.92"
      ]
     },
     "execution_count": 49,
     "metadata": {},
     "output_type": "execute_result"
    }
   ],
   "source": [
    "z = pd.concat([y,x], axis = 1)\n",
    "z.head()"
   ]
  },
  {
   "cell_type": "code",
   "execution_count": 52,
   "metadata": {},
   "outputs": [],
   "source": [
    "sigma_market = z[\"NIFTY50\"].std()\n",
    "sigma_i = z[\"AMIORG\"].std()"
   ]
  },
  {
   "cell_type": "code",
   "execution_count": 57,
   "metadata": {},
   "outputs": [],
   "source": [
    "covariance = z[\"NIFTY50\"].cov(z['AMIORG'])"
   ]
  },
  {
   "cell_type": "code",
   "execution_count": 58,
   "metadata": {},
   "outputs": [
    {
     "data": {
      "text/plain": [
       "1.0156333809139377"
      ]
     },
     "execution_count": 58,
     "metadata": {},
     "output_type": "execute_result"
    }
   ],
   "source": [
    "beta = covariance/sigma_market/sigma_market\n",
    "beta"
   ]
  },
  {
   "cell_type": "code",
   "execution_count": 59,
   "metadata": {},
   "outputs": [
    {
     "data": {
      "text/plain": [
       "0.36812228142791226"
      ]
     },
     "execution_count": 59,
     "metadata": {},
     "output_type": "execute_result"
    }
   ],
   "source": [
    "z[\"NIFTY50\"].corr(z['AMIORG'])"
   ]
  },
  {
   "cell_type": "code",
   "execution_count": 138,
   "metadata": {},
   "outputs": [
    {
     "data": {
      "text/plain": [
       "Timestamp('2023-01-30 00:00:00')"
      ]
     },
     "execution_count": 138,
     "metadata": {},
     "output_type": "execute_result"
    }
   ],
   "source": [
    "df_return.dropna(inplace = True)\n",
    "df_return.index[-60]"
   ]
  },
  {
   "cell_type": "code",
   "execution_count": 139,
   "metadata": {},
   "outputs": [
    {
     "data": {
      "text/plain": [
       "<matplotlib.lines.Line2D at 0x7fe12897cb80>"
      ]
     },
     "execution_count": 139,
     "metadata": {},
     "output_type": "execute_result"
    },
    {
     "data": {
      "image/png": "[encoded data removed]",
      "text/plain": [
       "<Figure size 800x400 with 1 Axes>"
      ]
     },
     "metadata": {},
     "output_type": "display_data"
    }
   ],
   "source": [
    "nobs, minmax, mu, var, skew, kurtosis = stats.describe(df_return)\n",
    "fig, ax = plt.subplots(figsize=(8,4))\n",
    "lcl = mu - 3*np.sqrt(var)\n",
    "ucl = mu + 3*np.sqrt(var)\n",
    "df_return.plot(ax = ax)\n",
    "ax.axhline(mu, color = 'C1')\n",
    "ax.axhline(lcl, color = 'r')\n",
    "ax.axhline(ucl, color = 'r')"
   ]
  },
  {
   "cell_type": "code",
   "execution_count": 60,
   "metadata": {},
   "outputs": [
    {
     "name": "stdout",
     "output_type": "stream",
     "text": [
      "Requirement already satisfied: yfinance in /Applications/anaconda3/lib/python3.9/site-packages (0.2.12)\n",
      "Requirement already satisfied: numpy>=1.16.5 in /Applications/anaconda3/lib/python3.9/site-packages (from yfinance) (1.21.5)\n",
      "Requirement already satisfied: multitasking>=0.0.7 in /Applications/anaconda3/lib/python3.9/site-packages (from yfinance) (0.0.11)\n",
      "Requirement already satisfied: frozendict>=2.3.4 in /Applications/anaconda3/lib/python3.9/site-packages (from yfinance) (2.3.5)\n",
      "Requirement already satisfied: beautifulsoup4>=4.11.1 in /Applications/anaconda3/lib/python3.9/site-packages (from yfinance) (4.11.1)\n",
      "Requirement already satisfied: cryptography>=3.3.2 in /Applications/anaconda3/lib/python3.9/site-packages (from yfinance) (37.0.1)\n",
      "Requirement already satisfied: pytz>=2022.5 in /Applications/anaconda3/lib/python3.9/site-packages (from yfinance) (2022.7.1)\n",
      "Requirement already satisfied: html5lib>=1.1 in /Applications/anaconda3/lib/python3.9/site-packages (from yfinance) (1.1)\n",
      "Requirement already satisfied: requests>=2.26 in /Applications/anaconda3/lib/python3.9/site-packages (from yfinance) (2.28.1)\n",
      "Requirement already satisfied: appdirs>=1.4.4 in /Applications/anaconda3/lib/python3.9/site-packages (from yfinance) (1.4.4)\n",
      "Requirement already satisfied: lxml>=4.9.1 in /Applications/anaconda3/lib/python3.9/site-packages (from yfinance) (4.9.1)\n",
      "Requirement already satisfied: pandas>=1.3.0 in /Applications/anaconda3/lib/python3.9/site-packages (from yfinance) (1.4.4)\n",
      "Requirement already satisfied: soupsieve>1.2 in /Applications/anaconda3/lib/python3.9/site-packages (from beautifulsoup4>=4.11.1->yfinance) (2.3.1)\n",
      "Requirement already satisfied: cffi>=1.12 in /Applications/anaconda3/lib/python3.9/site-packages (from cryptography>=3.3.2->yfinance) (1.15.1)\n",
      "Requirement already satisfied: six>=1.9 in /Applications/anaconda3/lib/python3.9/site-packages (from html5lib>=1.1->yfinance) (1.16.0)\n",
      "Requirement already satisfied: webencodings in /Applications/anaconda3/lib/python3.9/site-packages (from html5lib>=1.1->yfinance) (0.5.1)\n",
      "Requirement already satisfied: python-dateutil>=2.8.1 in /Applications/anaconda3/lib/python3.9/site-packages (from pandas>=1.3.0->yfinance) (2.8.2)\n",
      "Requirement already satisfied: urllib3<1.27,>=1.21.1 in /Applications/anaconda3/lib/python3.9/site-packages (from requests>=2.26->yfinance) (1.26.11)\n",
      "Requirement already satisfied: idna<4,>=2.5 in /Applications/anaconda3/lib/python3.9/site-packages (from requests>=2.26->yfinance) (3.3)\n",
      "Requirement already satisfied: charset-normalizer<3,>=2 in /Applications/anaconda3/lib/python3.9/site-packages (from requests>=2.26->yfinance) (2.0.4)\n",
      "Requirement already satisfied: certifi>=2017.4.17 in /Applications/anaconda3/lib/python3.9/site-packages (from requests>=2.26->yfinance) (2022.9.24)\n",
      "Requirement already satisfied: pycparser in /Applications/anaconda3/lib/python3.9/site-packages (from cffi>=1.12->cryptography>=3.3.2->yfinance) (2.21)\n"
     ]
    }
   ],
   "source": [
    "!pip install yfinance"
   ]
  }
 ],
 "metadata": {
  "kernelspec": {
   "display_name": "Python 3 (ipykernel)",
   "language": "python",
   "name": "python3"
  },
  "language_info": {
   "codemirror_mode": {
    "name": "ipython",
    "version": 3
   },
   "file_extension": ".py",
   "mimetype": "text/x-python",
   "name": "python",
   "nbconvert_exporter": "python",
   "pygments_lexer": "ipython3",
   "version": "3.9.13"
  },
  "vscode": {
   "interpreter": {
    "hash": "aee8b7b246df8f9039afb4144a1f6fd8d2ca17a180786b69acc140d282b71a49"
   }
  }
 },
 "nbformat": 4,
 "nbformat_minor": 2
}
